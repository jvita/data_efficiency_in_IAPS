{
 "cells": [
  {
   "cell_type": "code",
   "execution_count": 2,
   "metadata": {},
   "outputs": [],
   "source": [
    "import os\n",
    "import re\n",
    "import json\n",
    "import pandas as pd\n",
    "import numpy as np\n",
    "import seaborn as sns\n",
    "import matplotlib.pyplot as plt\n",
    "from scipy import stats\n",
    "from scipy.optimize import curve_fit"
   ]
  },
  {
   "cell_type": "code",
   "execution_count": 3,
   "metadata": {},
   "outputs": [],
   "source": [
    "import sys\n",
    "sys.path.append(\"/g/g92/dskoda/prj/dskrc/python/inits\")\n",
    "\n",
    "from plotting import *\n",
    "plt.rcParams['figure.dpi'] = 150\n",
    "plt.style.use(\"paper\")"
   ]
  },
  {
   "cell_type": "code",
   "execution_count": 4,
   "metadata": {},
   "outputs": [],
   "source": [
    "hpr = pd.read_csv(\"02_data/nequip_hyperparams.csv\", index_col=0)\n",
    "lcv = pd.read_csv(\"02_data/nequip_learning.csv\", index_col=0)\n",
    "lls = pd.read_csv(\"02_data/nequip_losslands.csv\", index_col=0)\n",
    "sdf = pd.read_csv(\"02_data/nequip_entropy.csv\", index_col=0)\n",
    "exp = pd.read_csv(\"02_data/nequip_explosion.csv\", index_col=0)\n",
    "ext = pd.read_csv(\"02_data/nequip_extrapolation_errors.csv\", index_col=0)"
   ]
  },
  {
   "cell_type": "code",
   "execution_count": 5,
   "metadata": {},
   "outputs": [],
   "source": [
    "LABELS = {\n",
    "    \"baseline\": \"no rescaling\",\n",
    "    \"non_trainable_bessel\": \"rescaling\",\n",
    "    \"rescaling\": \"rescaling + bessel\",\n",
    "}\n",
    "\n",
    "FIGS_DIR = \"04_si\""
   ]
  },
  {
   "cell_type": "code",
   "execution_count": 6,
   "metadata": {},
   "outputs": [],
   "source": [
    "MODELS = {\n",
    "    \"BIG\": [\"baseline\", \"non_trainable_bessel\", \"rescaling\"],\n",
    "    \"2-OPT\":  [\"2-layer, baseline\", \"2-layer, AMSGrad-only\", \"2-layer, EMA-only\"],\n",
    "    \"5-OPT\":  [\"5-layer, baseline\", \"5-layer, AMSGrad-only\", \"5-layer, EMA-only\"],\n",
    "    \"LAYERS\": [\"2-layer\", \"3-layer\", \"4-layer\", \"5-layer\"],\n",
    "}\n",
    "\n",
    "MODELS_ORDER = MODELS[\"BIG\"] + MODELS[\"2-OPT\"] + MODELS[\"5-OPT\"] + MODELS[\"LAYERS\"]"
   ]
  },
  {
   "cell_type": "code",
   "execution_count": 7,
   "metadata": {},
   "outputs": [],
   "source": [
    "CMAPS = {\n",
    "    \"BIG\": cm.Reds_r,\n",
    "    \"2-OPT\": cm.Blues_r,\n",
    "    \"5-OPT\": cm.Greens_r,\n",
    "    \"LAYERS\": cm.Purples_r,\n",
    "}"
   ]
  },
  {
   "cell_type": "code",
   "execution_count": 8,
   "metadata": {},
   "outputs": [],
   "source": [
    "_colors = {}\n",
    "for mset, cases in MODELS.items():\n",
    "    norm = plt.Normalize(0, len(cases))\n",
    "    for i, name in enumerate(cases):\n",
    "        _colors[name] = CMAPS[mset](norm(i))\n",
    "    \n",
    "labels = pd.Series(_colors)"
   ]
  },
  {
   "cell_type": "markdown",
   "metadata": {},
   "source": [
    "## Table with the hyperparameters"
   ]
  },
  {
   "cell_type": "code",
   "execution_count": 9,
   "metadata": {},
   "outputs": [],
   "source": [
    "def is_trainable(builders):\n",
    "    return \"PerSpeciesRescale\" in builders\n",
    "\n",
    "hpr[\"rescaled\"] = hpr[\"model_builders\"].apply(is_trainable)"
   ]
  },
  {
   "cell_type": "code",
   "execution_count": 10,
   "metadata": {},
   "outputs": [],
   "source": [
    "HPR_COLS = [\"num_layers\", \"optimizer_amsgrad\", \"use_ema\", 'BesselBasis_trainable', \"rescaled\"]"
   ]
  },
  {
   "cell_type": "code",
   "execution_count": 37,
   "metadata": {},
   "outputs": [],
   "source": [
    "def df_to_latex_table(df, caption=\"\", **kwargs):\n",
    "    latex_str = df.to_latex(index=False, escape=False, **kwargs)\n",
    "    latex_str = latex_str.replace('\\\\toprule', '\\\\hline \\\\hline')\n",
    "    latex_str = latex_str.replace('\\\\midrule', '\\\\hline')\n",
    "    latex_str = latex_str.replace('\\\\bottomrule', '\\\\hline \\\\hline')\n",
    "    latex_str = latex_str.replace(\"True\", r'\\TrueMarker')\n",
    "    latex_str = latex_str.replace(\"False\", r'\\FalseMarker')\n",
    "    \n",
    "    latex_lines = [\n",
    "        re.sub(r'\\s+', ' ', line)\n",
    "        for line in latex_str.split(r\"\\\\\")\n",
    "    ]\n",
    "    latex_str = \"\\\\\\\\ \\n\".join(latex_lines)\n",
    "    return f'\\\\begin{{table}}[h]\\n\\\\centering\\n\\\\caption{{{caption}}}\\n{latex_str}\\\\end{{table}}'"
   ]
  },
  {
   "cell_type": "code",
   "execution_count": 96,
   "metadata": {},
   "outputs": [],
   "source": [
    "_hpr = hpr.loc[MODELS_ORDER, HPR_COLS].rename(index=LABELS).reset_index()"
   ]
  },
  {
   "cell_type": "code",
   "execution_count": 97,
   "metadata": {
    "scrolled": true
   },
   "outputs": [
    {
     "name": "stdout",
     "output_type": "stream",
     "text": [
      "\\begin{table}[h]\n",
      "\\centering\n",
      "\\caption{NequIP hyperparameters}\n",
      "\\begin{tabular}{lrllll} \\hline \\hline index & num\\_layers & optimizer\\_amsgrad & use\\_ema & BesselBasis\\_trainable & rescaled \\\\ \n",
      " \\hline no rescaling & 2 & \\TrueMarker & \\TrueMarker & \\TrueMarker & \\FalseMarker \\\\ \n",
      " rescaling & 2 & \\TrueMarker & \\TrueMarker & \\FalseMarker & \\TrueMarker \\\\ \n",
      " rescaling + bessel & 2 & \\TrueMarker & \\TrueMarker & \\TrueMarker & \\TrueMarker \\\\ \n",
      " 2-layer, baseline & 2 & \\FalseMarker & \\FalseMarker & \\TrueMarker & \\TrueMarker \\\\ \n",
      " 2-layer, AMSGrad-only & 2 & \\TrueMarker & \\FalseMarker & \\TrueMarker & \\TrueMarker \\\\ \n",
      " 2-layer, EMA-only & 2 & \\FalseMarker & \\TrueMarker & \\TrueMarker & \\TrueMarker \\\\ \n",
      " 5-layer, baseline & 5 & \\FalseMarker & \\FalseMarker & \\FalseMarker & \\TrueMarker \\\\ \n",
      " 5-layer, AMSGrad-only & 5 & \\TrueMarker & \\FalseMarker & \\FalseMarker & \\TrueMarker \\\\ \n",
      " 5-layer, EMA-only & 5 & \\FalseMarker & \\TrueMarker & \\FalseMarker & \\TrueMarker \\\\ \n",
      " 2-layer & 2 & \\TrueMarker & \\TrueMarker & \\FalseMarker & \\TrueMarker \\\\ \n",
      " 3-layer & 3 & \\TrueMarker & \\TrueMarker & \\FalseMarker & \\TrueMarker \\\\ \n",
      " 4-layer & 4 & \\TrueMarker & \\TrueMarker & \\FalseMarker & \\TrueMarker \\\\ \n",
      " 5-layer & 5 & \\TrueMarker & \\TrueMarker & \\FalseMarker & \\TrueMarker \\\\ \n",
      " \\hline \\hline \\end{tabular} \\end{table}\n"
     ]
    },
    {
     "name": "stderr",
     "output_type": "stream",
     "text": [
      "/tmp/ipykernel_313585/4095877314.py:2: FutureWarning: In future versions `DataFrame.to_latex` is expected to utilise the base implementation of `Styler.to_latex` for formatting and rendering. The arguments signature may therefore change. It is recommended instead to use `DataFrame.style.to_latex` which also contains additional functionality.\n",
      "  latex_str = df.to_latex(index=False)\n"
     ]
    }
   ],
   "source": [
    "print(df_to_latex_table(_hpr.copy(), \"NequIP hyperparameters\"))"
   ]
  },
  {
   "cell_type": "markdown",
   "metadata": {},
   "source": [
    "## Table with the entropy results"
   ]
  },
  {
   "cell_type": "code",
   "execution_count": 99,
   "metadata": {},
   "outputs": [],
   "source": [
    "ENTROPY_COLS = [\"Se\", \"Sf\", \"S\", \"explosion_mean\", \"explosion_std\"]"
   ]
  },
  {
   "cell_type": "code",
   "execution_count": 115,
   "metadata": {},
   "outputs": [],
   "source": [
    "_sdf = sdf.loc[MODELS_ORDER, ENTROPY_COLS]\n",
    "\n",
    "_failure = [\n",
    "    f\"${row['explosion_mean'] / 1000:0.2f} \\\\pm ${row['explosion_std'] / 1000:0.2f}\"\n",
    "    for _, row in _sdf.iterrows()\n",
    "]\n",
    "_sdf[\"Time to failure (ps)\"] = _failure\n",
    "_sdf = _sdf.drop([\"explosion_mean\", \"explosion_std\"], axis=1)\n",
    "_sdf = _sdf.reset_index()"
   ]
  },
  {
   "cell_type": "code",
   "execution_count": 117,
   "metadata": {},
   "outputs": [
    {
     "name": "stdout",
     "output_type": "stream",
     "text": [
      "\\begin{table}[h]\n",
      "\\centering\n",
      "\\caption{NequIP entropy}\n",
      "\\begin{tabular}{lrrrl} \\hline \\hline index & Se & Sf & S & Time to failure (ps) \\\\ \n",
      " \\hline baseline & -1.53 & -0.67 & -0.84 & $1.65 \\pm $0.38 \\\\ \n",
      " non_trainable_bessel & 0.33 & 1.78 & 1.49 & $2.34 \\pm $1.27 \\\\ \n",
      " rescaling & 0.26 & 1.90 & 1.57 & $2.84 \\pm $1.26 \\\\ \n",
      " 2-layer, baseline & 0.13 & 1.98 & 1.61 & $2.04 \\pm $0.76 \\\\ \n",
      " 2-layer, AMSGrad-only & 0.35 & 1.78 & 1.50 & $2.24 \\pm $1.14 \\\\ \n",
      " 2-layer, EMA-only & -0.13 & 1.87 & 1.47 & $1.51 \\pm $0.45 \\\\ \n",
      " 5-layer, baseline & 2.02 & 2.13 & 2.11 & $2.97 \\pm $1.54 \\\\ \n",
      " 5-layer, AMSGrad-only & 2.29 & 2.35 & 2.34 & $3.62 \\pm $1.65 \\\\ \n",
      " 5-layer, EMA-only & 1.41 & 2.16 & 2.01 & $2.27 \\pm $1.03 \\\\ \n",
      " 2-layer & 0.33 & 1.80 & 1.51 & $1.96 \\pm $0.59 \\\\ \n",
      " 3-layer & 0.09 & 2.34 & 1.89 & $3.64 \\pm $1.82 \\\\ \n",
      " 4-layer & 0.19 & 2.48 & 2.02 & $3.67 \\pm $1.64 \\\\ \n",
      " 5-layer & 2.14 & 2.31 & 2.28 & $4.62 \\pm $1.63 \\\\ \n",
      " \\hline \\hline \\end{tabular} \\end{table}\n"
     ]
    },
    {
     "name": "stderr",
     "output_type": "stream",
     "text": [
      "/tmp/ipykernel_313585/1041434108.py:2: FutureWarning: In future versions `DataFrame.to_latex` is expected to utilise the base implementation of `Styler.to_latex` for formatting and rendering. The arguments signature may therefore change. It is recommended instead to use `DataFrame.style.to_latex` which also contains additional functionality.\n",
      "  latex_str = df.to_latex(index=False, float_format=\"%.2f\", escape=False)\n"
     ]
    }
   ],
   "source": [
    "print(df_to_latex_table(_sdf.copy(), \"NequIP entropy\"))"
   ]
  },
  {
   "cell_type": "markdown",
   "metadata": {},
   "source": [
    "## Table with the extrapolation errors"
   ]
  },
  {
   "cell_type": "markdown",
   "metadata": {},
   "source": [
    "## 3BPA, energies"
   ]
  },
  {
   "cell_type": "code",
   "execution_count": 42,
   "metadata": {},
   "outputs": [],
   "source": [
    "EXT_COLS = [\"T\", 25, 125, 250, 500]\n",
    "EXT_ORDER = MODELS[\"2-OPT\"] + MODELS[\"5-OPT\"] + MODELS[\"LAYERS\"]\n",
    "\n",
    "_ext = ext.loc[ext.nsamples > 5]\n",
    "\n",
    "_exts = []\n",
    "\n",
    "for T in [300, 600, 1200]:\n",
    "    vals = f\"test_{T}K_energy\"\n",
    "    _tmp = _ext.pivot(index=\"label\", columns=\"nsamples\", values=vals)\n",
    "    _tmp = _tmp * 1000\n",
    "    _tmp[\"T\"] = T\n",
    "    _exts.append(_tmp)\n",
    "\n",
    "_ext_e = pd.concat(_exts)\n",
    "_ext_e = _ext_e.sort_values([\"label\", \"T\"])[EXT_COLS].loc[EXT_ORDER].reset_index()"
   ]
  },
  {
   "cell_type": "code",
   "execution_count": 43,
   "metadata": {},
   "outputs": [
    {
     "name": "stdout",
     "output_type": "stream",
     "text": [
      "\\begin{table}[h]\n",
      "\\centering\n",
      "\\caption{NequIP Energy RMSE}\n",
      "\\begin{tabular}{lrrrrr} \\hline \\hline label & T & 25 & 125 & 250 & 500 \\\\ \n",
      " \\hline 2-layer, baseline & 300 & 2.7 & 1.0 & 1.3 & 1.6 \\\\ \n",
      " 2-layer, baseline & 600 & 3.3 & 1.7 & 1.7 & 1.8 \\\\ \n",
      " 2-layer, baseline & 1200 & 5.8 & 3.8 & 3.7 & 3.7 \\\\ \n",
      " 2-layer, AMSGrad-only & 300 & 3.5 & 1.1 & 0.7 & 0.3 \\\\ \n",
      " 2-layer, AMSGrad-only & 600 & 3.6 & 1.7 & 1.2 & 0.8 \\\\ \n",
      " 2-layer, AMSGrad-only & 1200 & 5.4 & 3.5 & 2.8 & 2.5 \\\\ \n",
      " 2-layer, EMA-only & 300 & 2.7 & 1.0 & 0.5 & 3.7 \\\\ \n",
      " 2-layer, EMA-only & 600 & 3.4 & 1.7 & 1.1 & 3.7 \\\\ \n",
      " 2-layer, EMA-only & 1200 & 6.0 & 3.8 & 3.3 & 5.6 \\\\ \n",
      " 5-layer, baseline & 300 & 2.0 & 2.8 & 8.3 & 9.4 \\\\ \n",
      " 5-layer, baseline & 600 & 2.9 & 2.8 & 8.1 & 9.2 \\\\ \n",
      " 5-layer, baseline & 1200 & 6.0 & 3.7 & 8.9 & 9.9 \\\\ \n",
      " 5-layer, AMSGrad-only & 300 & 2.1 & 0.5 & 1.5 & 0.3 \\\\ \n",
      " 5-layer, AMSGrad-only & 600 & 3.1 & 1.0 & 1.6 & 0.6 \\\\ \n",
      " 5-layer, AMSGrad-only & 1200 & 6.6 & 2.1 & 2.8 & 1.9 \\\\ \n",
      " 5-layer, EMA-only & 300 & 1.9 & 1.1 & 2.2 & 5.3 \\\\ \n",
      " 5-layer, EMA-only & 600 & 2.9 & 1.4 & 2.3 & 5.3 \\\\ \n",
      " 5-layer, EMA-only & 1200 & 5.8 & 2.8 & 4.2 & 3.7 \\\\ \n",
      " 2-layer & 300 & 6.7 & 2.6 & 10.1 & 0.9 \\\\ \n",
      " 2-layer & 600 & 7.9 & 2.8 & 10.1 & 1.2 \\\\ \n",
      " 2-layer & 1200 & 10.4 & 5.5 & 11.9 & 3.0 \\\\ \n",
      " 3-layer & 300 & 33.5 & 0.5 & 0.4 & 1.7 \\\\ \n",
      " 3-layer & 600 & 34.9 & 1.1 & 0.8 & 1.7 \\\\ \n",
      " 3-layer & 1200 & 37.8 & 2.5 & 1.9 & 2.6 \\\\ \n",
      " 4-layer & 300 & 1.9 & 0.4 & 0.4 & 0.6 \\\\ \n",
      " 4-layer & 600 & 2.9 & 1.0 & 0.8 & 0.8 \\\\ \n",
      " 4-layer & 1200 & 6.5 & 2.3 & 1.7 & 1.7 \\\\ \n",
      " 5-layer & 300 & 2.0 & 0.5 & 0.5 & 2.7 \\\\ \n",
      " 5-layer & 600 & 2.9 & 1.0 & 0.8 & 2.7 \\\\ \n",
      " 5-layer & 1200 & 6.1 & 2.1 & 2.1 & 3.6 \\\\ \n",
      " \\hline \\hline \\end{tabular} \\end{table}\n"
     ]
    },
    {
     "name": "stderr",
     "output_type": "stream",
     "text": [
      "/tmp/ipykernel_108955/2674757401.py:2: FutureWarning: In future versions `DataFrame.to_latex` is expected to utilise the base implementation of `Styler.to_latex` for formatting and rendering. The arguments signature may therefore change. It is recommended instead to use `DataFrame.style.to_latex` which also contains additional functionality.\n",
      "  latex_str = df.to_latex(index=False, escape=False, **kwargs)\n"
     ]
    }
   ],
   "source": [
    "print(df_to_latex_table(_ext_e.copy(), \"NequIP Energy RMSE\", float_format=\"%.1f\"))"
   ]
  },
  {
   "cell_type": "markdown",
   "metadata": {},
   "source": [
    "## 3BPA, forces"
   ]
  },
  {
   "cell_type": "code",
   "execution_count": 44,
   "metadata": {},
   "outputs": [],
   "source": [
    "EXT_COLS = [\"T\", 25, 125, 250, 500]\n",
    "EXT_ORDER = MODELS[\"2-OPT\"] + MODELS[\"5-OPT\"] + MODELS[\"LAYERS\"]\n",
    "\n",
    "_ext = ext.loc[ext.nsamples > 5]\n",
    "\n",
    "_exts = []\n",
    "\n",
    "for T in [300, 600, 1200]:\n",
    "    vals = f\"test_{T}K_forces\"\n",
    "    _tmp = _ext.pivot(index=\"label\", columns=\"nsamples\", values=vals)\n",
    "    _tmp = _tmp * 1000\n",
    "    _tmp[\"T\"] = T\n",
    "    _exts.append(_tmp)\n",
    "\n",
    "_ext_f = pd.concat(_exts)\n",
    "_ext_f = _ext_f.sort_values([\"label\", \"T\"])[EXT_COLS].loc[EXT_ORDER].reset_index()"
   ]
  },
  {
   "cell_type": "code",
   "execution_count": 45,
   "metadata": {},
   "outputs": [
    {
     "name": "stdout",
     "output_type": "stream",
     "text": [
      "\\begin{table}[h]\n",
      "\\centering\n",
      "\\caption{NequIP Forces RMSE}\n",
      "\\begin{tabular}{lrrrrr} \\hline \\hline label & T & 25 & 125 & 250 & 500 \\\\ \n",
      " \\hline 2-layer, baseline & 300 & 92.1 & 45.9 & 34.0 & 25.7 \\\\ \n",
      " 2-layer, baseline & 600 & 140.8 & 86.5 & 68.2 & 54.4 \\\\ \n",
      " 2-layer, baseline & 1200 & 248.0 & 181.6 & 161.8 & 146.3 \\\\ \n",
      " 2-layer, AMSGrad-only & 300 & 91.7 & 45.0 & 33.6 & 25.0 \\\\ \n",
      " 2-layer, AMSGrad-only & 600 & 139.2 & 83.8 & 67.5 & 52.5 \\\\ \n",
      " 2-layer, AMSGrad-only & 1200 & 248.6 & 173.4 & 154.0 & 132.9 \\\\ \n",
      " 2-layer, EMA-only & 300 & 93.2 & 45.6 & 34.0 & 25.4 \\\\ \n",
      " 2-layer, EMA-only & 600 & 143.2 & 86.3 & 68.3 & 54.1 \\\\ \n",
      " 2-layer, EMA-only & 1200 & 251.0 & 181.4 & 168.6 & 151.8 \\\\ \n",
      " 5-layer, baseline & 300 & 88.7 & 30.0 & 20.4 & 16.1 \\\\ \n",
      " 5-layer, baseline & 600 & 133.8 & 57.3 & 43.0 & 34.9 \\\\ \n",
      " 5-layer, baseline & 1200 & 233.4 & 129.0 & 115.0 & 98.8 \\\\ \n",
      " 5-layer, AMSGrad-only & 300 & 87.8 & 28.6 & 19.4 & 14.4 \\\\ \n",
      " 5-layer, AMSGrad-only & 600 & 134.1 & 55.0 & 40.8 & 31.2 \\\\ \n",
      " 5-layer, AMSGrad-only & 1200 & 239.6 & 121.2 & 103.3 & 85.2 \\\\ \n",
      " 5-layer, EMA-only & 300 & 88.8 & 29.1 & 20.1 & 14.5 \\\\ \n",
      " 5-layer, EMA-only & 600 & 133.6 & 56.5 & 44.0 & 33.8 \\\\ \n",
      " 5-layer, EMA-only & 1200 & 232.5 & 132.7 & 121.9 & 101.3 \\\\ \n",
      " 2-layer & 300 & 89.8 & 43.7 & 33.2 & 25.2 \\\\ \n",
      " 2-layer & 600 & 136.8 & 82.0 & 65.7 & 52.6 \\\\ \n",
      " 2-layer & 1200 & 243.6 & 175.3 & 153.6 & 138.9 \\\\ \n",
      " 3-layer & 300 & 93.2 & 33.1 & 22.4 & 15.3 \\\\ \n",
      " 3-layer & 600 & 139.0 & 61.5 & 45.8 & 34.4 \\\\ \n",
      " 3-layer & 1200 & 242.2 & 131.1 & 112.2 & 92.8 \\\\ \n",
      " 4-layer & 300 & 95.1 & 31.3 & 19.7 & 12.5 \\\\ \n",
      " 4-layer & 600 & 143.9 & 58.9 & 41.3 & 29.7 \\\\ \n",
      " 4-layer & 1200 & 258.9 & 126.5 & 101.9 & 85.0 \\\\ \n",
      " 5-layer & 300 & 87.7 & 28.7 & 19.0 & 13.1 \\\\ \n",
      " 5-layer & 600 & 133.2 & 55.0 & 40.5 & 30.5 \\\\ \n",
      " 5-layer & 1200 & 235.8 & 121.5 & 104.6 & 84.2 \\\\ \n",
      " \\hline \\hline \\end{tabular} \\end{table}\n"
     ]
    },
    {
     "name": "stderr",
     "output_type": "stream",
     "text": [
      "/tmp/ipykernel_108955/2674757401.py:2: FutureWarning: In future versions `DataFrame.to_latex` is expected to utilise the base implementation of `Styler.to_latex` for formatting and rendering. The arguments signature may therefore change. It is recommended instead to use `DataFrame.style.to_latex` which also contains additional functionality.\n",
      "  latex_str = df.to_latex(index=False, escape=False, **kwargs)\n"
     ]
    }
   ],
   "source": [
    "print(df_to_latex_table(_ext_f.copy(), \"NequIP Forces RMSE\", float_format=\"%.1f\"))"
   ]
  },
  {
   "cell_type": "code",
   "execution_count": 50,
   "metadata": {},
   "outputs": [],
   "source": [
    "_ext = pd.concat([\n",
    "    _ext_e.set_index([\"label\", \"T\"]),\n",
    "    _ext_f.set_index([\"label\", \"T\"]),\n",
    "], axis=1).reset_index()"
   ]
  },
  {
   "cell_type": "code",
   "execution_count": 52,
   "metadata": {},
   "outputs": [
    {
     "name": "stdout",
     "output_type": "stream",
     "text": [
      "\\begin{table}[h]\n",
      "\\centering\n",
      "\\caption{NequIP RMSE}\n",
      "\\begin{tabular}{lrrrrrrrrr} \\hline \\hline label & T & 25 & 125 & 250 & 500 & 25 & 125 & 250 & 500 \\\\ \n",
      " \\hline 2-layer, baseline & 300 & 2.7 & 1.0 & 1.3 & 1.6 & 92.1 & 45.9 & 34.0 & 25.7 \\\\ \n",
      " 2-layer, baseline & 600 & 3.3 & 1.7 & 1.7 & 1.8 & 140.8 & 86.5 & 68.2 & 54.4 \\\\ \n",
      " 2-layer, baseline & 1200 & 5.8 & 3.8 & 3.7 & 3.7 & 248.0 & 181.6 & 161.8 & 146.3 \\\\ \n",
      " 2-layer, AMSGrad-only & 300 & 3.5 & 1.1 & 0.7 & 0.3 & 91.7 & 45.0 & 33.6 & 25.0 \\\\ \n",
      " 2-layer, AMSGrad-only & 600 & 3.6 & 1.7 & 1.2 & 0.8 & 139.2 & 83.8 & 67.5 & 52.5 \\\\ \n",
      " 2-layer, AMSGrad-only & 1200 & 5.4 & 3.5 & 2.8 & 2.5 & 248.6 & 173.4 & 154.0 & 132.9 \\\\ \n",
      " 2-layer, EMA-only & 300 & 2.7 & 1.0 & 0.5 & 3.7 & 93.2 & 45.6 & 34.0 & 25.4 \\\\ \n",
      " 2-layer, EMA-only & 600 & 3.4 & 1.7 & 1.1 & 3.7 & 143.2 & 86.3 & 68.3 & 54.1 \\\\ \n",
      " 2-layer, EMA-only & 1200 & 6.0 & 3.8 & 3.3 & 5.6 & 251.0 & 181.4 & 168.6 & 151.8 \\\\ \n",
      " 5-layer, baseline & 300 & 2.0 & 2.8 & 8.3 & 9.4 & 88.7 & 30.0 & 20.4 & 16.1 \\\\ \n",
      " 5-layer, baseline & 600 & 2.9 & 2.8 & 8.1 & 9.2 & 133.8 & 57.3 & 43.0 & 34.9 \\\\ \n",
      " 5-layer, baseline & 1200 & 6.0 & 3.7 & 8.9 & 9.9 & 233.4 & 129.0 & 115.0 & 98.8 \\\\ \n",
      " 5-layer, AMSGrad-only & 300 & 2.1 & 0.5 & 1.5 & 0.3 & 87.8 & 28.6 & 19.4 & 14.4 \\\\ \n",
      " 5-layer, AMSGrad-only & 600 & 3.1 & 1.0 & 1.6 & 0.6 & 134.1 & 55.0 & 40.8 & 31.2 \\\\ \n",
      " 5-layer, AMSGrad-only & 1200 & 6.6 & 2.1 & 2.8 & 1.9 & 239.6 & 121.2 & 103.3 & 85.2 \\\\ \n",
      " 5-layer, EMA-only & 300 & 1.9 & 1.1 & 2.2 & 5.3 & 88.8 & 29.1 & 20.1 & 14.5 \\\\ \n",
      " 5-layer, EMA-only & 600 & 2.9 & 1.4 & 2.3 & 5.3 & 133.6 & 56.5 & 44.0 & 33.8 \\\\ \n",
      " 5-layer, EMA-only & 1200 & 5.8 & 2.8 & 4.2 & 3.7 & 232.5 & 132.7 & 121.9 & 101.3 \\\\ \n",
      " 2-layer & 300 & 6.7 & 2.6 & 10.1 & 0.9 & 89.8 & 43.7 & 33.2 & 25.2 \\\\ \n",
      " 2-layer & 600 & 7.9 & 2.8 & 10.1 & 1.2 & 136.8 & 82.0 & 65.7 & 52.6 \\\\ \n",
      " 2-layer & 1200 & 10.4 & 5.5 & 11.9 & 3.0 & 243.6 & 175.3 & 153.6 & 138.9 \\\\ \n",
      " 3-layer & 300 & 33.5 & 0.5 & 0.4 & 1.7 & 93.2 & 33.1 & 22.4 & 15.3 \\\\ \n",
      " 3-layer & 600 & 34.9 & 1.1 & 0.8 & 1.7 & 139.0 & 61.5 & 45.8 & 34.4 \\\\ \n",
      " 3-layer & 1200 & 37.8 & 2.5 & 1.9 & 2.6 & 242.2 & 131.1 & 112.2 & 92.8 \\\\ \n",
      " 4-layer & 300 & 1.9 & 0.4 & 0.4 & 0.6 & 95.1 & 31.3 & 19.7 & 12.5 \\\\ \n",
      " 4-layer & 600 & 2.9 & 1.0 & 0.8 & 0.8 & 143.9 & 58.9 & 41.3 & 29.7 \\\\ \n",
      " 4-layer & 1200 & 6.5 & 2.3 & 1.7 & 1.7 & 258.9 & 126.5 & 101.9 & 85.0 \\\\ \n",
      " 5-layer & 300 & 2.0 & 0.5 & 0.5 & 2.7 & 87.7 & 28.7 & 19.0 & 13.1 \\\\ \n",
      " 5-layer & 600 & 2.9 & 1.0 & 0.8 & 2.7 & 133.2 & 55.0 & 40.5 & 30.5 \\\\ \n",
      " 5-layer & 1200 & 6.1 & 2.1 & 2.1 & 3.6 & 235.8 & 121.5 & 104.6 & 84.2 \\\\ \n",
      " \\hline \\hline \\end{tabular} \\end{table}\n"
     ]
    },
    {
     "name": "stderr",
     "output_type": "stream",
     "text": [
      "/tmp/ipykernel_108955/2674757401.py:2: FutureWarning: In future versions `DataFrame.to_latex` is expected to utilise the base implementation of `Styler.to_latex` for formatting and rendering. The arguments signature may therefore change. It is recommended instead to use `DataFrame.style.to_latex` which also contains additional functionality.\n",
      "  latex_str = df.to_latex(index=False, escape=False, **kwargs)\n"
     ]
    }
   ],
   "source": [
    "print(df_to_latex_table(_ext.copy(), \"NequIP RMSE\", float_format=\"%.1f\"))"
   ]
  }
 ],
 "metadata": {
  "kernelspec": {
   "display_name": "mkite-dev",
   "language": "python",
   "name": "mkite-dev"
  },
  "language_info": {
   "codemirror_mode": {
    "name": "ipython",
    "version": 3
   },
   "file_extension": ".py",
   "mimetype": "text/x-python",
   "name": "python",
   "nbconvert_exporter": "python",
   "pygments_lexer": "ipython3",
   "version": "3.8.2"
  },
  "varInspector": {
   "cols": {
    "lenName": 16,
    "lenType": 16,
    "lenVar": 40
   },
   "kernels_config": {
    "python": {
     "delete_cmd_postfix": "",
     "delete_cmd_prefix": "del ",
     "library": "var_list.py",
     "varRefreshCmd": "print(var_dic_list())"
    },
    "r": {
     "delete_cmd_postfix": ") ",
     "delete_cmd_prefix": "rm(",
     "library": "var_list.r",
     "varRefreshCmd": "cat(var_dic_list()) "
    }
   },
   "types_to_exclude": [
    "module",
    "function",
    "builtin_function_or_method",
    "instance",
    "_Feature"
   ],
   "window_display": false
  }
 },
 "nbformat": 4,
 "nbformat_minor": 4
}
