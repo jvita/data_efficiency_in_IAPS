{
 "cells": [
  {
   "cell_type": "code",
   "execution_count": 1,
   "metadata": {},
   "outputs": [
    {
     "ename": "ModuleNotFoundError",
     "evalue": "No module named 'torch'",
     "output_type": "error",
     "traceback": [
      "\u001b[0;31m---------------------------------------------------------------------------\u001b[0m",
      "\u001b[0;31mModuleNotFoundError\u001b[0m                       Traceback (most recent call last)",
      "Input \u001b[0;32mIn [1]\u001b[0m, in \u001b[0;36m<cell line: 3>\u001b[0;34m()\u001b[0m\n\u001b[1;32m      1\u001b[0m \u001b[38;5;28;01mimport\u001b[39;00m \u001b[38;5;21;01mos\u001b[39;00m\n\u001b[1;32m      2\u001b[0m \u001b[38;5;28;01mimport\u001b[39;00m \u001b[38;5;21;01mtqdm\u001b[39;00m\n\u001b[0;32m----> 3\u001b[0m \u001b[38;5;28;01mimport\u001b[39;00m \u001b[38;5;21;01mtorch\u001b[39;00m\n\u001b[1;32m      4\u001b[0m \u001b[38;5;28;01mimport\u001b[39;00m \u001b[38;5;21;01mnequip\u001b[39;00m\n\u001b[1;32m      5\u001b[0m \u001b[38;5;28;01mimport\u001b[39;00m \u001b[38;5;21;01mmath\u001b[39;00m\n",
      "\u001b[0;31mModuleNotFoundError\u001b[0m: No module named 'torch'"
     ]
    }
   ],
   "source": [
    "import os\n",
    "import tqdm\n",
    "import torch\n",
    "import nequip\n",
    "import math\n",
    "from nequip.ase import NoseHoover\n",
    "\n",
    "import ase\n",
    "from ase import Atoms\n",
    "from ase.io import read, write, Trajectory\n",
    "from nequip.ase import NequIPCalculator\n",
    "\n",
    "import matplotlib.pyplot as plt\n",
    "import seaborn as sns\n",
    "import pandas as pd\n",
    "\n",
    "from ase.md import MDLogger\n",
    "from ase.md.verlet import VelocityVerlet\n",
    "from ase.md.langevin import Langevin\n",
    "from ase.md.nvtberendsen import NVTBerendsen"
   ]
  },
  {
   "cell_type": "markdown",
   "metadata": {},
   "source": [
    "## Running test MD"
   ]
  },
  {
   "cell_type": "code",
   "execution_count": 2,
   "metadata": {},
   "outputs": [
    {
     "name": "stderr",
     "output_type": "stream",
     "text": [
      "/usr/workspace/dskoda/envs/torch-coral/lib/python3.8/site-packages/nequip/utils/_global_options.py:58: UserWarning: Setting the GLOBAL value for jit fusion strategy to `[('DYNAMIC', 3)]` which is different than the previous value of `[('STATIC', 2), ('DYNAMIC', 10)]`\n",
      "  warnings.warn(\n",
      "/usr/workspace/dskoda/envs/torch-coral/lib/python3.8/site-packages/nequip/ase/nequip_calculator.py:73: UserWarning: Trying to use chemical symbols as NequIP type names; this may not be correct for your model! To avoid this warning, please provide `species_to_type_name` explicitly.\n",
      "  warnings.warn(\n"
     ]
    }
   ],
   "source": [
    "BASE_PATH = \"/usr/workspace/dsk-jv/trained_models/nequip\"\n",
    "\n",
    "calc = NequIPCalculator.from_deployed_model(f\"{BASE_PATH}/2layer/deployed.pth\", device=\"cuda:1\")"
   ]
  },
  {
   "cell_type": "code",
   "execution_count": 3,
   "metadata": {},
   "outputs": [],
   "source": [
    "xyz = read(\"/usr/workspace/dsk-jv/mace/datasets/3BPA_500.xyz\", index=\":\")"
   ]
  },
  {
   "cell_type": "code",
   "execution_count": 4,
   "metadata": {},
   "outputs": [],
   "source": [
    "energies = [at.info[\"energy\"] for at in xyz]\n",
    "atoms = [at for at in xyz if at.info[\"energy\"] == min(energies)][0].copy()\n",
    "atoms.set_calculator(calc)"
   ]
  },
  {
   "cell_type": "code",
   "execution_count": 5,
   "metadata": {},
   "outputs": [],
   "source": [
    "write(\"/usr/workspace/dsk-jv/nequip/md/3BPA_min.xyz\", atoms)"
   ]
  },
  {
   "cell_type": "code",
   "execution_count": 5,
   "metadata": {},
   "outputs": [],
   "source": [
    "# dyn = VelocityVerlet(atoms, timestep=2*ase.units.fs)"
   ]
  },
  {
   "cell_type": "code",
   "execution_count": 6,
   "metadata": {},
   "outputs": [],
   "source": [
    "# temperature = 1200 # Kelvin\n",
    "# timestep = 1 * ase.units.fs\n",
    "\n",
    "# Q = (3 * len(atoms) - 6) #* ase.units.kB * temperature * timestep ** 2 / (2 * math.pi ** 2)\n",
    "\n",
    "# dyn = NoseHoover(\n",
    "#     atoms,\n",
    "#     timestep=1 * ase.units.fs,\n",
    "#     temperature=1200,\n",
    "#     nvt_q=Q,\n",
    "#     trajectory=\"3BPA.traj\",\n",
    "# #     taut=0.5*1000*ase.units.fs\n",
    "# )"
   ]
  },
  {
   "cell_type": "code",
   "execution_count": 41,
   "metadata": {},
   "outputs": [],
   "source": [
    "temperature = 600 # Kelvin\n",
    "timestep = 2 * ase.units.fs\n",
    "taut = 0.5 * 500 * ase.units.fs\n",
    "\n",
    "dyn = NVTBerendsen(\n",
    "    atoms,\n",
    "    timestep=timestep,\n",
    "    temperature_K=temperature,\n",
    "    taut=taut,\n",
    "    trajectory=\"3BPA.traj\",\n",
    ")"
   ]
  },
  {
   "cell_type": "code",
   "execution_count": 11,
   "metadata": {},
   "outputs": [],
   "source": [
    "# temperature = 1200 # Kelvin\n",
    "# timestep = 1 * ase.units.fs\n",
    "# friction = 1e-3\n",
    "\n",
    "# dyn = Langevin(\n",
    "#     atoms,\n",
    "#     timestep=timestep,\n",
    "#     temperature_K=temperature,\n",
    "#     friction=friction,\n",
    "#     trajectory=\"3BPA.traj\",\n",
    "# )"
   ]
  },
  {
   "cell_type": "code",
   "execution_count": 42,
   "metadata": {},
   "outputs": [],
   "source": [
    "dyn.attach(MDLogger(\n",
    "    dyn,\n",
    "    atoms,\n",
    "    '3BPA.log',\n",
    "    header=True,\n",
    "    stress=False,\n",
    "    peratom=True,\n",
    "    mode=\"a\"\n",
    "), interval=3)"
   ]
  },
  {
   "cell_type": "code",
   "execution_count": 43,
   "metadata": {},
   "outputs": [
    {
     "data": {
      "text/plain": [
       "True"
      ]
     },
     "execution_count": 43,
     "metadata": {},
     "output_type": "execute_result"
    }
   ],
   "source": [
    "dyn.run(1000)"
   ]
  },
  {
   "cell_type": "markdown",
   "metadata": {},
   "source": [
    "## Analyzing the trajectory"
   ]
  },
  {
   "cell_type": "code",
   "execution_count": 2,
   "metadata": {},
   "outputs": [],
   "source": [
    "from ase.geometry.analysis import Analysis"
   ]
  },
  {
   "cell_type": "code",
   "execution_count": 3,
   "metadata": {},
   "outputs": [],
   "source": [
    "def get_edge_list(atoms):\n",
    "    an = Analysis(atoms)\n",
    "    edge_list = []\n",
    "    for i, bonds in enumerate(an.all_bonds[0]):\n",
    "        for j in bonds:\n",
    "            edge_list.append([i, j])\n",
    "\n",
    "    return np.array(edge_list)\n",
    "\n",
    "def get_distances(atoms, edge_list=None):\n",
    "    dm = atoms.get_all_distances()\n",
    "    if edge_list is None:\n",
    "        return dm\n",
    "    \n",
    "    return dm[edge_list[:, 0], edge_list[:, 1]]    "
   ]
  },
  {
   "cell_type": "code",
   "execution_count": 5,
   "metadata": {},
   "outputs": [],
   "source": [
    "def get_explosion_index(traj):\n",
    "    edges = get_edge_list(traj[0])\n",
    "    \n",
    "    max_dists = np.array([\n",
    "        get_distances(at, edges).max()\n",
    "        for at in traj\n",
    "    ])\n",
    "    index = np.argwhere(max_dists > 2).flat\n",
    "    if len(index) == 0:\n",
    "        return len(traj)\n",
    "    \n",
    "    return index[0]"
   ]
  },
  {
   "cell_type": "markdown",
   "metadata": {},
   "source": [
    "## Analyzing all trajectories"
   ]
  },
  {
   "cell_type": "code",
   "execution_count": 1,
   "metadata": {},
   "outputs": [],
   "source": [
    "import os\n",
    "import tqdm\n",
    "import json\n",
    "import pandas as pd\n",
    "import matplotlib.pyplot as plt\n",
    "import seaborn as sns"
   ]
  },
  {
   "cell_type": "code",
   "execution_count": 2,
   "metadata": {},
   "outputs": [],
   "source": [
    "PATHS = [f\"/usr/WS2/dsk-jv/nequip/md/runs-{f}\" for f in [\"3\", \"3-2\", \"3-3\"]]\n",
    "\n",
    "traj_files = sorted([\n",
    "    os.path.join(_path, f)\n",
    "    for _path in PATHS\n",
    "    for f in os.listdir(_path)\n",
    "    if f.endswith(\".json\")\n",
    "])"
   ]
  },
  {
   "cell_type": "code",
   "execution_count": 3,
   "metadata": {},
   "outputs": [
    {
     "name": "stderr",
     "output_type": "stream",
     "text": [
      "100%|██████████| 390/390 [00:00<00:00, 981.03it/s]\n"
     ]
    }
   ],
   "source": [
    "results = []\n",
    "\n",
    "for _json in tqdm.tqdm(traj_files):\n",
    "    with open(_json, \"r\") as f:\n",
    "        traj = json.load(f)\n",
    "        \n",
    "    model, i = _json.split(\"/\")[-1].replace(\".json\", \"\").split(\"-\")\n",
    "    traj[\"model\"] = model\n",
    "    traj[\"num\"] = int(i)\n",
    "\n",
    "    results.append(traj)"
   ]
  },
  {
   "cell_type": "code",
   "execution_count": 4,
   "metadata": {},
   "outputs": [],
   "source": [
    "df = pd.DataFrame(results)"
   ]
  },
  {
   "cell_type": "code",
   "execution_count": 5,
   "metadata": {},
   "outputs": [],
   "source": [
    "df.to_csv(\"nequip_explosion.csv\")"
   ]
  },
  {
   "cell_type": "code",
   "execution_count": 6,
   "metadata": {},
   "outputs": [
    {
     "data": {
      "text/plain": [
       "array(['2layer_yes_rescaling_no_amsgrad_no_ema',\n",
       "       '2layer_yes_rescaling_no_amsgrad_yes_ema',\n",
       "       '2layer_yes_rescaling_yes_amsgrad_no_ema',\n",
       "       '5layer_yes_rescaling_no_amsgrad_no_ema',\n",
       "       '5layer_yes_rescaling_no_amsgrad_yes_ema',\n",
       "       '5layer_yes_rescaling_yes_amsgrad_no_ema', '2layer', '3layer',\n",
       "       '4layer', '5layer', 'baseline', 'non_trainable_bessel',\n",
       "       'rescaling'], dtype=object)"
      ]
     },
     "execution_count": 6,
     "metadata": {},
     "output_type": "execute_result"
    }
   ],
   "source": [
    "df[\"model\"].unique()"
   ]
  },
  {
   "cell_type": "code",
   "execution_count": 23,
   "metadata": {},
   "outputs": [
    {
     "data": {
      "image/png": "[encoded data removed]",
      "text/plain": [
       "<Figure size 288x216 with 1 Axes>"
      ]
     },
     "metadata": {
      "needs_background": "light"
     },
     "output_type": "display_data"
    }
   ],
   "source": [
    "fig, ax = plt.subplots(figsize=(4, 3))\n",
    "\n",
    "_models = {\n",
    "    '5layer_yes_rescaling_no_amsgrad_no_ema': \"(False, False)\",\n",
    "    '5layer_yes_rescaling_no_amsgrad_yes_ema': \"(False, True)\",\n",
    "    '5layer_yes_rescaling_yes_amsgrad_no_ema': \"(True, False)\",\n",
    "    '2layer': \"No Bessel (True, True)\"\n",
    "}\n",
    "_df = df.loc[df[\"model\"].isin(_models.keys())]\n",
    "\n",
    "ax = sns.boxplot(\n",
    "    data=_df,\n",
    "    x=\"explosion\",\n",
    "    y=\"model\",\n",
    "    ax=ax,\n",
    ")\n",
    "\n",
    "ax.set_xlabel(\"Time to explosion (fs)\")\n",
    "ax.set_ylabel(\"\")\n",
    "\n",
    "ax.set_xlim(0)\n",
    "\n",
    "for sp in [\"left\", \"right\", \"top\"]:\n",
    "    ax.spines[sp].set_visible(False)\n",
    "\n",
    "labels = [_models[t.get_text()] for t in ax.get_yticklabels()]\n",
    "ax.set_yticklabels(labels)\n",
    "\n",
    "ax.set_title(\"Rescaling + (AMSGrad, EMA) for 5layer models\")\n",
    "plt.show()"
   ]
  },
  {
   "cell_type": "code",
   "execution_count": 42,
   "metadata": {},
   "outputs": [
    {
     "data": {
      "image/png": "[encoded data removed]",
      "text/plain": [
       "<Figure size 400x300 with 1 Axes>"
      ]
     },
     "metadata": {},
     "output_type": "display_data"
    }
   ],
   "source": [
    "fig, ax = plt.subplots(figsize=(4, 3))\n",
    "\n",
    "_df = df.loc[df[\"model\"].isin([\"baseline\", 'non_trainable_bessel', 'rescaling'])]\n",
    "\n",
    "ax = sns.boxplot(\n",
    "    data=_df,\n",
    "    x=\"explosion\",\n",
    "    y=\"model\",\n",
    "    ax=ax,\n",
    ")\n",
    "\n",
    "ax.set_xlabel(\"Time to explosion (fs)\")\n",
    "ax.set_ylabel(\"\")\n",
    "\n",
    "ax.set_xlim(0)\n",
    "\n",
    "for sp in [\"left\", \"right\", \"top\"]:\n",
    "    ax.spines[sp].set_visible(False)\n",
    "\n",
    "plt.show()"
   ]
  },
  {
   "cell_type": "code",
   "execution_count": 43,
   "metadata": {},
   "outputs": [
    {
     "data": {
      "image/png": "[encoded data removed]",
      "text/plain": [
       "<Figure size 400x300 with 1 Axes>"
      ]
     },
     "metadata": {},
     "output_type": "display_data"
    }
   ],
   "source": [
    "fig, ax = plt.subplots(figsize=(4, 3))\n",
    "\n",
    "_df = df.loc[df[\"model\"].isin([f\"{i}layer\" for i in range(2, 6)])]\n",
    "\n",
    "ax = sns.boxplot(\n",
    "    data=_df,\n",
    "    x=\"explosion\",\n",
    "    y=\"model\",\n",
    "    ax=ax,\n",
    ")\n",
    "\n",
    "ax.set_xlabel(\"Time to explosion (fs)\")\n",
    "ax.set_ylabel(\"\")\n",
    "\n",
    "ax.set_xlim(0)\n",
    "\n",
    "for sp in [\"left\", \"right\", \"top\"]:\n",
    "    ax.spines[sp].set_visible(False)\n",
    "\n",
    "plt.show()"
   ]
  },
  {
   "cell_type": "code",
   "execution_count": 35,
   "metadata": {},
   "outputs": [
    {
     "data": {
      "text/html": [
       "<div>\n",
       "<style scoped>\n",
       "    .dataframe tbody tr th:only-of-type {\n",
       "        vertical-align: middle;\n",
       "    }\n",
       "\n",
       "    .dataframe tbody tr th {\n",
       "        vertical-align: top;\n",
       "    }\n",
       "\n",
       "    .dataframe thead th {\n",
       "        text-align: right;\n",
       "    }\n",
       "</style>\n",
       "<table border=\"1\" class=\"dataframe\">\n",
       "  <thead>\n",
       "    <tr style=\"text-align: right;\">\n",
       "      <th></th>\n",
       "      <th>model</th>\n",
       "      <th>num</th>\n",
       "      <th>explosion</th>\n",
       "    </tr>\n",
       "  </thead>\n",
       "  <tbody>\n",
       "    <tr>\n",
       "      <th>0</th>\n",
       "      <td>2layer</td>\n",
       "      <td>1</td>\n",
       "      <td>1499</td>\n",
       "    </tr>\n",
       "    <tr>\n",
       "      <th>1</th>\n",
       "      <td>2layer</td>\n",
       "      <td>2</td>\n",
       "      <td>2824</td>\n",
       "    </tr>\n",
       "    <tr>\n",
       "      <th>2</th>\n",
       "      <td>2layer</td>\n",
       "      <td>3</td>\n",
       "      <td>2025</td>\n",
       "    </tr>\n",
       "    <tr>\n",
       "      <th>3</th>\n",
       "      <td>2layer</td>\n",
       "      <td>4</td>\n",
       "      <td>2127</td>\n",
       "    </tr>\n",
       "    <tr>\n",
       "      <th>4</th>\n",
       "      <td>2layer</td>\n",
       "      <td>5</td>\n",
       "      <td>1690</td>\n",
       "    </tr>\n",
       "    <tr>\n",
       "      <th>...</th>\n",
       "      <td>...</td>\n",
       "      <td>...</td>\n",
       "      <td>...</td>\n",
       "    </tr>\n",
       "    <tr>\n",
       "      <th>205</th>\n",
       "      <td>rescaling</td>\n",
       "      <td>26</td>\n",
       "      <td>2134</td>\n",
       "    </tr>\n",
       "    <tr>\n",
       "      <th>206</th>\n",
       "      <td>rescaling</td>\n",
       "      <td>27</td>\n",
       "      <td>2669</td>\n",
       "    </tr>\n",
       "    <tr>\n",
       "      <th>207</th>\n",
       "      <td>rescaling</td>\n",
       "      <td>28</td>\n",
       "      <td>5265</td>\n",
       "    </tr>\n",
       "    <tr>\n",
       "      <th>208</th>\n",
       "      <td>rescaling</td>\n",
       "      <td>29</td>\n",
       "      <td>2526</td>\n",
       "    </tr>\n",
       "    <tr>\n",
       "      <th>209</th>\n",
       "      <td>rescaling</td>\n",
       "      <td>30</td>\n",
       "      <td>1426</td>\n",
       "    </tr>\n",
       "  </tbody>\n",
       "</table>\n",
       "<p>210 rows × 3 columns</p>\n",
       "</div>"
      ],
      "text/plain": [
       "         model  num  explosion\n",
       "0       2layer    1       1499\n",
       "1       2layer    2       2824\n",
       "2       2layer    3       2025\n",
       "3       2layer    4       2127\n",
       "4       2layer    5       1690\n",
       "..         ...  ...        ...\n",
       "205  rescaling   26       2134\n",
       "206  rescaling   27       2669\n",
       "207  rescaling   28       5265\n",
       "208  rescaling   29       2526\n",
       "209  rescaling   30       1426\n",
       "\n",
       "[210 rows x 3 columns]"
      ]
     },
     "execution_count": 35,
     "metadata": {},
     "output_type": "execute_result"
    }
   ],
   "source": [
    "df"
   ]
  }
 ],
 "metadata": {
  "kernelspec": {
   "display_name": "mkite-dev",
   "language": "python",
   "name": "mkite-dev"
  },
  "language_info": {
   "codemirror_mode": {
    "name": "ipython",
    "version": 3
   },
   "file_extension": ".py",
   "mimetype": "text/x-python",
   "name": "python",
   "nbconvert_exporter": "python",
   "pygments_lexer": "ipython3",
   "version": "3.8.2"
  },
  "varInspector": {
   "cols": {
    "lenName": 16,
    "lenType": 16,
    "lenVar": 40
   },
   "kernels_config": {
    "python": {
     "delete_cmd_postfix": "",
     "delete_cmd_prefix": "del ",
     "library": "var_list.py",
     "varRefreshCmd": "print(var_dic_list())"
    },
    "r": {
     "delete_cmd_postfix": ") ",
     "delete_cmd_prefix": "rm(",
     "library": "var_list.r",
     "varRefreshCmd": "cat(var_dic_list()) "
    }
   },
   "types_to_exclude": [
    "module",
    "function",
    "builtin_function_or_method",
    "instance",
    "_Feature"
   ],
   "window_display": false
  }
 },
 "nbformat": 4,
 "nbformat_minor": 4
}
