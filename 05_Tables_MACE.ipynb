{
 "cells": [
  {
   "cell_type": "code",
   "execution_count": 1,
   "metadata": {},
   "outputs": [],
   "source": [
    "import os\n",
    "import re\n",
    "import json\n",
    "import pandas as pd\n",
    "import numpy as np\n",
    "import seaborn as sns\n",
    "import matplotlib.pyplot as plt\n",
    "from scipy import stats\n",
    "from scipy.optimize import curve_fit"
   ]
  },
  {
   "cell_type": "code",
   "execution_count": 2,
   "metadata": {},
   "outputs": [],
   "source": [
    "import sys\n",
    "sys.path.append(\"/g/g92/dskoda/prj/dskrc/python/inits\")\n",
    "\n",
    "from plotting import *\n",
    "plt.rcParams['figure.dpi'] = 150\n",
    "plt.style.use(\"paper\")"
   ]
  },
  {
   "cell_type": "code",
   "execution_count": 3,
   "metadata": {},
   "outputs": [],
   "source": [
    "hpr = pd.read_csv(\"02_data/mace_hyperparams.csv\", index_col=0)\n",
    "lcv = pd.read_csv(\"02_data/mace_learning.csv\", index_col=0)\n",
    "lls = pd.read_csv(\"02_data/mace_losslands.csv\", index_col=0)\n",
    "sdf = pd.read_csv(\"02_data/mace_entropy.csv\", index_col=0)\n",
    "exp = pd.read_csv(\"02_data/mace_explosion.csv\", index_col=0)\n",
    "ext = pd.read_csv(\"02_data/mace_extrapolation_errors.csv\", index_col=0)"
   ]
  },
  {
   "cell_type": "code",
   "execution_count": 4,
   "metadata": {},
   "outputs": [],
   "source": [
    "LABELS = {\n",
    "    \"no_rescaling\": \"v=2, L=3, no rescaling\",\n",
    "    \"no_bessel\": \"v=2, L=3, all opt\",\n",
    "    \"only_rescaling\": \"v=2, L=3, rescaling\",\n",
    "    \"rescaling+bessel\": \"v=2, L=3, Bessel\",\n",
    "    \"v2-base\": \"v=2, L=3, baseline\",\n",
    "    \"v2-amsgrad\": \"v=2, L=3, AMSGrad\",\n",
    "    \"v2-ema\": \"v=2, L=3, EMA\",\n",
    "    \"v2-swa\": \"v=2, L=3, SWA\",\n",
    "    \"v3_l3\": \"v=3, L=3\",\n",
    "    \"v2_l3\": \"v=2, L=3\",\n",
    "    \"v1_l3\": \"v=1, L=3\",\n",
    "    \"v2_l2\": \"v=2, L=2\",\n",
    "    \"v2_l1\": \"v=2, L=1\",\n",
    "    \"v2_l0\": \"v=2, L=0\",\n",
    "    \"v1_l0\": \"v=1, L=0\",\n",
    "}\n",
    "FIGS_DIR = \"04_si\""
   ]
  },
  {
   "cell_type": "code",
   "execution_count": 5,
   "metadata": {},
   "outputs": [],
   "source": [
    "MODELS = {\n",
    "    \"BIG\": [\"no_rescaling\", \"no_bessel\", \"only_rescaling\", \"rescaling+bessel\"],\n",
    "    \"OPT\":  [\"v2-base\", \"v2-swa\", \"v2-ema\", \"v2-amsgrad\"],\n",
    "    \"V1\": [\"v1_l0\", \"v1_l3\"],\n",
    "    \"V2\": [\"v2_l0\", \"v2_l1\", \"v2_l2\", \"v2_l3\"] ,\n",
    "    \"VL3\": [\"v1_l3\", \"v2_l3\", \"v3_l3\"],\n",
    "}\n",
    "\n",
    "MODELS_ORDER = MODELS[\"BIG\"] + MODELS[\"OPT\"] + MODELS[\"V1\"] + MODELS[\"V2\"] + MODELS[\"VL3\"]\n",
    "MODELS_L3 = MODELS[\"BIG\"] + MODELS[\"OPT\"] + MODELS[\"VL3\"]"
   ]
  },
  {
   "cell_type": "code",
   "execution_count": 6,
   "metadata": {},
   "outputs": [],
   "source": [
    "CMAPS = {\n",
    "    \"BIG\": cm.Reds_r,\n",
    "    \"OPT\": cm.Blues_r,\n",
    "    \"V1\": cm.Greys_r,\n",
    "    \"V2\": cm.Greens_r,\n",
    "    \"VL3\": cm.Purples_r,\n",
    "}"
   ]
  },
  {
   "cell_type": "code",
   "execution_count": 7,
   "metadata": {},
   "outputs": [],
   "source": [
    "labels = pd.DataFrame(LABELS.values(), index=LABELS.keys(), columns=[\"label\"])"
   ]
  },
  {
   "cell_type": "code",
   "execution_count": 8,
   "metadata": {},
   "outputs": [],
   "source": [
    "_colors = {}\n",
    "for mset, cases in MODELS.items():\n",
    "    norm = plt.Normalize(0, len(cases))\n",
    "    for i, name in enumerate(cases):\n",
    "        _colors[name] = CMAPS[mset](norm(i))\n",
    "    \n",
    "labels[\"color\"] = pd.Series(_colors)"
   ]
  },
  {
   "cell_type": "markdown",
   "metadata": {},
   "source": [
    "## Hyperparameters"
   ]
  },
  {
   "cell_type": "code",
   "execution_count": 9,
   "metadata": {},
   "outputs": [],
   "source": [
    "def df_to_latex_table(df, caption=\"\", **kwargs):\n",
    "    latex_str = df.to_latex(index=False, escape=False, **kwargs)\n",
    "    latex_str = latex_str.replace('\\\\toprule', '\\\\hline \\\\hline')\n",
    "    latex_str = latex_str.replace('\\\\midrule', '\\\\hline')\n",
    "    latex_str = latex_str.replace('\\\\bottomrule', '\\\\hline \\\\hline')\n",
    "    latex_str = latex_str.replace(\"True\", r'\\TrueMarker')\n",
    "    latex_str = latex_str.replace(\"False\", r'\\FalseMarker')\n",
    "    \n",
    "    latex_lines = [\n",
    "        re.sub(r'\\s+', ' ', line)\n",
    "        for line in latex_str.split(r\"\\\\\")\n",
    "    ]\n",
    "    latex_str = \"\\\\\\\\ \\n\".join(latex_lines)\n",
    "    return f'\\\\begin{{table}}[h]\\n\\\\centering\\n\\\\caption{{{caption}}}\\n{latex_str}\\\\end{{table}}'"
   ]
  },
  {
   "cell_type": "code",
   "execution_count": 10,
   "metadata": {},
   "outputs": [],
   "source": [
    "HPR_COLS = [\"num_interactions\", \"hidden_irreps\", \"max_ell\", \"amsgrad\", \"ema\", \"swa\", \"scaling\"]"
   ]
  },
  {
   "cell_type": "code",
   "execution_count": 11,
   "metadata": {},
   "outputs": [],
   "source": [
    "_hpr = hpr.loc[MODELS_ORDER, HPR_COLS].rename(index=LABELS).reset_index()"
   ]
  },
  {
   "cell_type": "code",
   "execution_count": 12,
   "metadata": {
    "scrolled": false
   },
   "outputs": [
    {
     "name": "stdout",
     "output_type": "stream",
     "text": [
      "\\begin{table}[h]\n",
      "\\centering\n",
      "\\caption{MACE hyperparameters}\n",
      "\\begin{tabular}{lrlrllll} \\hline \\hline index & num_interactions & hidden_irreps & max_ell & amsgrad & ema & swa & scaling \\\\ \n",
      " \\hline v=2, L=3, no rescaling & 2 & 256x0e + 256x1o + 256x2e & 3 & \\TrueMarker & \\TrueMarker & \\TrueMarker & no_scaling \\\\ \n",
      " v=2, L=3, all opt & 2 & 256x0e + 256x1o + 256x2e & 3 & \\TrueMarker & \\TrueMarker & \\TrueMarker & rms_forces_scaling \\\\ \n",
      " v=2, L=3, rescaling & 2 & 256x0e + 256x1o + 256x2e & 3 & \\FalseMarker & \\FalseMarker & \\FalseMarker & rms_forces_scaling \\\\ \n",
      " v=2, L=3, Bessel & 2 & 256x0e + 256x1o + 256x2e & 3 & \\TrueMarker & \\TrueMarker & \\TrueMarker & rms_forces_scaling \\\\ \n",
      " v=2, L=3, baseline & 2 & 256x0e + 256x1o + 256x2e & 3 & \\FalseMarker & \\FalseMarker & \\FalseMarker & rms_forces_scaling \\\\ \n",
      " v=2, L=3, SWA & 2 & 256x0e + 256x1o + 256x2e & 3 & \\FalseMarker & \\FalseMarker & \\TrueMarker & rms_forces_scaling \\\\ \n",
      " v=2, L=3, EMA & 2 & 256x0e + 256x1o + 256x2e & 3 & \\FalseMarker & \\TrueMarker & \\FalseMarker & rms_forces_scaling \\\\ \n",
      " v=2, L=3, AMSGrad & 2 & 256x0e + 256x1o + 256x2e & 3 & \\TrueMarker & \\FalseMarker & \\FalseMarker & rms_forces_scaling \\\\ \n",
      " v=1, L=0 & 2 & 256x0e & 0 & \\TrueMarker & \\TrueMarker & \\TrueMarker & rms_forces_scaling \\\\ \n",
      " v=1, L=3 & 2 & 256x0e + 256x1o + 256x2e & 3 & \\TrueMarker & \\TrueMarker & \\TrueMarker & rms_forces_scaling \\\\ \n",
      " v=2, L=0 & 2 & 256x0e & 0 & \\TrueMarker & \\TrueMarker & \\TrueMarker & rms_forces_scaling \\\\ \n",
      " v=2, L=1 & 2 & 256x0e + 256x1o & 1 & \\TrueMarker & \\TrueMarker & \\TrueMarker & rms_forces_scaling \\\\ \n",
      " v=2, L=2 & 2 & 256x0e + 256x1o + 256x2e & 2 & \\TrueMarker & \\TrueMarker & \\TrueMarker & rms_forces_scaling \\\\ \n",
      " v=2, L=3 & 2 & 256x0e + 256x1o + 256x2e & 3 & \\TrueMarker & \\TrueMarker & \\TrueMarker & rms_forces_scaling \\\\ \n",
      " v=1, L=3 & 2 & 256x0e + 256x1o + 256x2e & 3 & \\TrueMarker & \\TrueMarker & \\TrueMarker & rms_forces_scaling \\\\ \n",
      " v=2, L=3 & 2 & 256x0e + 256x1o + 256x2e & 3 & \\TrueMarker & \\TrueMarker & \\TrueMarker & rms_forces_scaling \\\\ \n",
      " v=3, L=3 & 2 & 256x0e + 256x1o + 256x2e & 3 & \\TrueMarker & \\TrueMarker & \\TrueMarker & rms_forces_scaling \\\\ \n",
      " \\hline \\hline \\end{tabular} \\end{table}\n"
     ]
    },
    {
     "name": "stderr",
     "output_type": "stream",
     "text": [
      "/tmp/ipykernel_122583/2674757401.py:2: FutureWarning: In future versions `DataFrame.to_latex` is expected to utilise the base implementation of `Styler.to_latex` for formatting and rendering. The arguments signature may therefore change. It is recommended instead to use `DataFrame.style.to_latex` which also contains additional functionality.\n",
      "  latex_str = df.to_latex(index=False, escape=False, **kwargs)\n"
     ]
    }
   ],
   "source": [
    "print(df_to_latex_table(_hpr.copy(), \"MACE hyperparameters\"))"
   ]
  },
  {
   "cell_type": "markdown",
   "metadata": {},
   "source": [
    "## Table with the entropy results"
   ]
  },
  {
   "cell_type": "code",
   "execution_count": 19,
   "metadata": {},
   "outputs": [],
   "source": [
    "ENTROPY_COLS = [\"Se\", \"Sf\", \"S\", \"explosion_mean\", \"explosion_std\"]"
   ]
  },
  {
   "cell_type": "code",
   "execution_count": 20,
   "metadata": {},
   "outputs": [],
   "source": [
    "_sdf = sdf.loc[MODELS_ORDER, ENTROPY_COLS]\n",
    "\n",
    "_failure = [\n",
    "    f\"${row['explosion_mean'] / 1000:0.2f} \\\\pm ${row['explosion_std'] / 1000:0.2f}\"\n",
    "    for _, row in _sdf.iterrows()\n",
    "]\n",
    "_sdf[\"Time to failure (ps)\"] = _failure\n",
    "_sdf = _sdf.drop([\"explosion_mean\", \"explosion_std\"], axis=1)\n",
    "_sdf = _sdf.reset_index()\n",
    "_sdf = _sdf.rename(index=LABELS)"
   ]
  },
  {
   "cell_type": "code",
   "execution_count": 22,
   "metadata": {},
   "outputs": [
    {
     "name": "stdout",
     "output_type": "stream",
     "text": [
      "\\begin{table}[h]\n",
      "\\centering\n",
      "\\caption{MACE entropy}\n",
      "\\begin{tabular}{lrrrl} \\hline \\hline index & Se & Sf & S & Time to failure (ps) \\\\ \n",
      " \\hline no_rescaling & -0.31 & -0.05 & -0.11 & $0.39 \\pm $0.00 \\\\ \n",
      " no_bessel & 0.63 & 2.48 & 2.11 & $2.53 \\pm $1.40 \\\\ \n",
      " only_rescaling & 0.28 & 2.45 & 2.02 & $1.94 \\pm $0.90 \\\\ \n",
      " rescaling+bessel & 0.52 & 2.53 & 2.13 & $1.86 \\pm $0.81 \\\\ \n",
      " v2-base & 0.28 & 2.45 & 2.02 & $2.25 \\pm $1.37 \\\\ \n",
      " v2-swa & 0.55 & 2.56 & 2.16 & $2.68 \\pm $1.30 \\\\ \n",
      " v2-ema & 0.08 & 2.45 & 1.97 & $2.13 \\pm $0.90 \\\\ \n",
      " v2-amsgrad & 0.48 & 2.48 & 2.08 & $2.71 \\pm $1.51 \\\\ \n",
      " v1_l0 & 1.25 & 1.52 & 1.47 & $0.25 \\pm $0.00 \\\\ \n",
      " v1_l3 & 2.04 & 2.17 & 2.14 & $1.92 \\pm $0.84 \\\\ \n",
      " v2_l0 & 0.92 & 1.93 & 1.73 & $0.39 \\pm $0.00 \\\\ \n",
      " v2_l1 & 1.15 & 2.74 & 2.42 & $0.89 \\pm $0.10 \\\\ \n",
      " v2_l2 & 0.42 & 2.47 & 2.06 & $3.42 \\pm $1.97 \\\\ \n",
      " v2_l3 & 0.47 & 2.44 & 2.04 & $1.72 \\pm $0.91 \\\\ \n",
      " v1_l3 & 2.04 & 2.17 & 2.14 & $1.92 \\pm $0.84 \\\\ \n",
      " v2_l3 & 0.47 & 2.44 & 2.04 & $1.72 \\pm $0.91 \\\\ \n",
      " v3_l3 & 0.63 & 2.64 & 2.24 & $2.46 \\pm $1.12 \\\\ \n",
      " \\hline \\hline \\end{tabular} \\end{table}\n"
     ]
    },
    {
     "name": "stderr",
     "output_type": "stream",
     "text": [
      "/tmp/ipykernel_122583/2674757401.py:2: FutureWarning: In future versions `DataFrame.to_latex` is expected to utilise the base implementation of `Styler.to_latex` for formatting and rendering. The arguments signature may therefore change. It is recommended instead to use `DataFrame.style.to_latex` which also contains additional functionality.\n",
      "  latex_str = df.to_latex(index=False, escape=False, **kwargs)\n"
     ]
    }
   ],
   "source": [
    "print(df_to_latex_table(_sdf.copy(), \"MACE entropy\", float_format=\"%.2f\"))"
   ]
  },
  {
   "cell_type": "markdown",
   "metadata": {},
   "source": [
    "## Table with the extrapolation errors"
   ]
  },
  {
   "cell_type": "markdown",
   "metadata": {},
   "source": [
    "## 3BPA, energies"
   ]
  },
  {
   "cell_type": "code",
   "execution_count": 25,
   "metadata": {},
   "outputs": [
    {
     "data": {
      "text/plain": [
       "array(['v2-base', 'v2-amsgrad', 'v2-ema', 'v2-swa', 'v3_l3', 'v2_l3',\n",
       "       'v1_l3', 'v2_l2', 'v2_l1', 'v2_l0'], dtype=object)"
      ]
     },
     "execution_count": 25,
     "metadata": {},
     "output_type": "execute_result"
    }
   ],
   "source": [
    "ext.label.unique()"
   ]
  },
  {
   "cell_type": "code",
   "execution_count": 29,
   "metadata": {},
   "outputs": [
    {
     "data": {
      "text/plain": [
       "['v2-base',\n",
       " 'v2-swa',\n",
       " 'v2-ema',\n",
       " 'v2-amsgrad',\n",
       " 'v2_l0',\n",
       " 'v2_l1',\n",
       " 'v2_l2',\n",
       " 'v1_l3',\n",
       " 'v2_l3',\n",
       " 'v3_l3']"
      ]
     },
     "execution_count": 29,
     "metadata": {},
     "output_type": "execute_result"
    }
   ],
   "source": [
    "EXT_ORDER"
   ]
  },
  {
   "cell_type": "code",
   "execution_count": 36,
   "metadata": {},
   "outputs": [],
   "source": [
    "EXT_COLS = [\"T\", 25, 125, 250, 500]\n",
    "EXT_ORDER = MODELS[\"OPT\"] + MODELS[\"V2\"][:-1] + MODELS[\"VL3\"]\n",
    "\n",
    "_ext = ext.loc[ext.nsamples > 5]\n",
    "_ext = _ext.groupby([\"nsamples\", \"label\"]).first().reset_index()\n",
    "\n",
    "_exts = []\n",
    "\n",
    "for T in [300, 600, 1200]:\n",
    "    vals = f\"test_{T}K_energy\"\n",
    "    _tmp = _ext.pivot(index=\"label\", columns=\"nsamples\", values=vals)\n",
    "    _tmp = _tmp * 1000\n",
    "    _tmp[\"T\"] = T\n",
    "    _exts.append(_tmp)\n",
    "\n",
    "_ext_e = pd.concat(_exts)\n",
    "_ext_e = _ext_e.sort_values([\"label\", \"T\"])[EXT_COLS].loc[EXT_ORDER].reset_index()"
   ]
  },
  {
   "cell_type": "code",
   "execution_count": null,
   "metadata": {},
   "outputs": [],
   "source": [
    "print(df_to_latex_table(_ext_e.copy(), \"NequIP Energy RMSE\", float_format=\"%.1f\"))"
   ]
  },
  {
   "cell_type": "markdown",
   "metadata": {},
   "source": [
    "## 3BPA, forces"
   ]
  },
  {
   "cell_type": "code",
   "execution_count": 37,
   "metadata": {},
   "outputs": [],
   "source": [
    "EXT_COLS = [\"T\", 25, 125, 250, 500]\n",
    "EXT_ORDER = MODELS[\"OPT\"] + MODELS[\"V2\"][:-1] + MODELS[\"VL3\"]\n",
    "\n",
    "_ext = ext.loc[ext.nsamples > 5]\n",
    "_ext = _ext.groupby([\"nsamples\", \"label\"]).first().reset_index()\n",
    "\n",
    "_exts = []\n",
    "\n",
    "for T in [300, 600, 1200]:\n",
    "    vals = f\"test_{T}K_forces\"\n",
    "    _tmp = _ext.pivot(index=\"label\", columns=\"nsamples\", values=vals)\n",
    "    _tmp = _tmp * 1000\n",
    "    _tmp[\"T\"] = T\n",
    "    _exts.append(_tmp)\n",
    "\n",
    "_ext_f = pd.concat(_exts)\n",
    "_ext_f = _ext_f.sort_values([\"label\", \"T\"])[EXT_COLS].loc[EXT_ORDER].reset_index()"
   ]
  },
  {
   "cell_type": "code",
   "execution_count": 38,
   "metadata": {},
   "outputs": [
    {
     "name": "stdout",
     "output_type": "stream",
     "text": [
      "\\begin{table}[h]\n",
      "\\centering\n",
      "\\caption{NequIP Forces RMSE}\n",
      "\\begin{tabular}{lrrrrr} \\hline \\hline label & T & 25 & 125 & 250 & 500 \\\\ \n",
      " \\hline v2-base & 300 & 65.3 & 23.9 & 17.3 & 12.0 \\\\ \n",
      " v2-base & 600 & 102.4 & 47.8 & 39.9 & 31.0 \\\\ \n",
      " v2-base & 1200 & 203.9 & 127.2 & 121.9 & 107.2 \\\\ \n",
      " v2-swa & 300 & 71.5 & 26.2 & 18.3 & 12.2 \\\\ \n",
      " v2-swa & 600 & 116.1 & 50.2 & 41.3 & 31.5 \\\\ \n",
      " v2-swa & 1200 & 243.5 & 128.4 & 125.8 & 109.8 \\\\ \n",
      " v2-ema & 300 & 66.6 & 24.4 & 17.5 & 12.0 \\\\ \n",
      " v2-ema & 600 & 104.4 & 49.6 & 40.2 & 31.0 \\\\ \n",
      " v2-ema & 1200 & 208.8 & 136.6 & 121.3 & 109.1 \\\\ \n",
      " v2-amsgrad & 300 & 64.3 & 23.6 & 16.1 & 10.6 \\\\ \n",
      " v2-amsgrad & 600 & 103.4 & 46.6 & 35.5 & 26.7 \\\\ \n",
      " v2-amsgrad & 1200 & 207.9 & 117.1 & 98.2 & 87.3 \\\\ \n",
      " v2_l0 & 300 & 194.5 & 90.6 & 61.4 & 47.5 \\\\ \n",
      " v2_l0 & 600 & 311.3 & 179.6 & 130.1 & 108.4 \\\\ \n",
      " v2_l0 & 1200 & 491.6 & 353.8 & 320.6 & 288.1 \\\\ \n",
      " v2_l1 & 300 & 125.6 & 42.7 & 29.0 & 19.4 \\\\ \n",
      " v2_l1 & 600 & 188.7 & 84.8 & 63.4 & 46.9 \\\\ \n",
      " v2_l1 & 1200 & 346.2 & 196.5 & 163.8 & 138.7 \\\\ \n",
      " v2_l2 & 300 & 70.3 & 27.0 & 18.3 & 12.5 \\\\ \n",
      " v2_l2 & 600 & 115.2 & 53.4 & 41.8 & 31.1 \\\\ \n",
      " v2_l2 & 1200 & 218.6 & 127.9 & 115.7 & 97.1 \\\\ \n",
      " v1_l3 & 300 & 126.6 & 55.4 & 42.9 & 34.6 \\\\ \n",
      " v1_l3 & 600 & 188.2 & 102.9 & 85.3 & 73.7 \\\\ \n",
      " v1_l3 & 1200 & 330.1 & 216.0 & 200.8 & 189.4 \\\\ \n",
      " v2_l3 & 300 & 66.6 & 24.4 & 16.9 & 11.0 \\\\ \n",
      " v2_l3 & 600 & 106.8 & 48.5 & 37.5 & 27.6 \\\\ \n",
      " v2_l3 & 1200 & 218.3 & 125.7 & 107.1 & 93.3 \\\\ \n",
      " v3_l3 & 300 & 66.0 & 23.5 & 15.8 & 10.6 \\\\ \n",
      " v3_l3 & 600 & 108.7 & 48.9 & 36.9 & 28.0 \\\\ \n",
      " v3_l3 & 1200 & 226.5 & 137.9 & 115.5 & 101.1 \\\\ \n",
      " \\hline \\hline \\end{tabular} \\end{table}\n"
     ]
    },
    {
     "name": "stderr",
     "output_type": "stream",
     "text": [
      "/tmp/ipykernel_122583/2674757401.py:2: FutureWarning: In future versions `DataFrame.to_latex` is expected to utilise the base implementation of `Styler.to_latex` for formatting and rendering. The arguments signature may therefore change. It is recommended instead to use `DataFrame.style.to_latex` which also contains additional functionality.\n",
      "  latex_str = df.to_latex(index=False, escape=False, **kwargs)\n"
     ]
    }
   ],
   "source": [
    "print(df_to_latex_table(_ext_f.copy(), \"NequIP Forces RMSE\", float_format=\"%.1f\"))"
   ]
  },
  {
   "cell_type": "code",
   "execution_count": 39,
   "metadata": {},
   "outputs": [],
   "source": [
    "_ext = pd.concat([\n",
    "    _ext_e.set_index([\"label\", \"T\"]),\n",
    "    _ext_f.set_index([\"label\", \"T\"]),\n",
    "], axis=1).reset_index()"
   ]
  },
  {
   "cell_type": "code",
   "execution_count": 41,
   "metadata": {},
   "outputs": [
    {
     "name": "stdout",
     "output_type": "stream",
     "text": [
      "\\begin{table}[h]\n",
      "\\centering\n",
      "\\caption{MACE RMSE}\n",
      "\\begin{tabular}{lrrrrrrrrr} \\hline \\hline label & T & 25 & 125 & 250 & 500 & 25 & 125 & 250 & 500 \\\\ \n",
      " \\hline v2-base & 300 & 3.3 & 0.7 & 0.3 & 0.1 & 65.3 & 23.9 & 17.3 & 12.0 \\\\ \n",
      " v2-base & 600 & 3.6 & 1.0 & 0.6 & 0.4 & 102.4 & 47.8 & 39.9 & 31.0 \\\\ \n",
      " v2-base & 1200 & 5.9 & 1.9 & 1.9 & 1.6 & 203.9 & 127.2 & 121.9 & 107.2 \\\\ \n",
      " v2-swa & 300 & 1.5 & 0.3 & 0.2 & 0.2 & 71.5 & 26.2 & 18.3 & 12.2 \\\\ \n",
      " v2-swa & 600 & 1.8 & 0.8 & 0.6 & 0.5 & 116.1 & 50.2 & 41.3 & 31.5 \\\\ \n",
      " v2-swa & 1200 & 5.6 & 2.2 & 2.1 & 1.9 & 243.5 & 128.4 & 125.8 & 109.8 \\\\ \n",
      " v2-ema & 300 & 2.2 & 0.3 & 0.2 & 0.7 & 66.6 & 24.4 & 17.5 & 12.0 \\\\ \n",
      " v2-ema & 600 & 2.5 & 0.8 & 0.6 & 0.8 & 104.4 & 49.6 & 40.2 & 31.0 \\\\ \n",
      " v2-ema & 1200 & 5.0 & 2.3 & 1.9 & 2.1 & 208.8 & 136.6 & 121.3 & 109.1 \\\\ \n",
      " v2-amsgrad & 300 & 1.9 & 0.4 & 0.2 & 0.1 & 64.3 & 23.6 & 16.1 & 10.6 \\\\ \n",
      " v2-amsgrad & 600 & 2.0 & 0.8 & 0.5 & 0.4 & 103.4 & 46.6 & 35.5 & 26.7 \\\\ \n",
      " v2-amsgrad & 1200 & 4.1 & 1.9 & 1.6 & 1.4 & 207.9 & 117.1 & 98.2 & 87.3 \\\\ \n",
      " v2_l0 & 300 & 4.7 & 1.3 & 0.8 & 0.6 & 194.5 & 90.6 & 61.4 & 47.5 \\\\ \n",
      " v2_l0 & 600 & 11.1 & 4.5 & 2.3 & 2.0 & 311.3 & 179.6 & 130.1 & 108.4 \\\\ \n",
      " v2_l0 & 1200 & 14.2 & 9.0 & 6.3 & 5.3 & 491.6 & 353.8 & 320.6 & 288.1 \\\\ \n",
      " v2_l1 & 300 & 3.0 & 0.6 & 0.4 & 0.2 & 125.6 & 42.7 & 29.0 & 19.4 \\\\ \n",
      " v2_l1 & 600 & 4.1 & 1.5 & 1.1 & 0.7 & 188.7 & 84.8 & 63.4 & 46.9 \\\\ \n",
      " v2_l1 & 1200 & 11.0 & 5.0 & 3.9 & 2.8 & 346.2 & 196.5 & 163.8 & 138.7 \\\\ \n",
      " v2_l2 & 300 & 1.3 & 0.3 & 0.2 & 0.1 & 70.3 & 27.0 & 18.3 & 12.5 \\\\ \n",
      " v2_l2 & 600 & 2.1 & 0.8 & 0.6 & 0.5 & 115.2 & 53.4 & 41.8 & 31.1 \\\\ \n",
      " v2_l2 & 1200 & 4.7 & 2.1 & 1.9 & 1.6 & 218.6 & 127.9 & 115.7 & 97.1 \\\\ \n",
      " v1_l3 & 300 & 1.9 & 0.7 & 0.6 & 0.5 & 126.6 & 55.4 & 42.9 & 34.6 \\\\ \n",
      " v1_l3 & 600 & 3.7 & 1.9 & 1.4 & 1.2 & 188.2 & 102.9 & 85.3 & 73.7 \\\\ \n",
      " v1_l3 & 1200 & 8.0 & 4.7 & 4.1 & 3.6 & 330.1 & 216.0 & 200.8 & 189.4 \\\\ \n",
      " v2_l3 & 300 & 1.4 & 0.3 & 0.2 & 0.1 & 66.6 & 24.4 & 16.9 & 11.0 \\\\ \n",
      " v2_l3 & 600 & 1.8 & 0.8 & 0.6 & 0.4 & 106.8 & 48.5 & 37.5 & 27.6 \\\\ \n",
      " v2_l3 & 1200 & 4.6 & 2.2 & 1.9 & 1.6 & 218.3 & 125.7 & 107.1 & 93.3 \\\\ \n",
      " v3_l3 & 300 & 1.2 & 0.3 & 0.2 & 0.1 & 66.0 & 23.5 & 15.8 & 10.6 \\\\ \n",
      " v3_l3 & 600 & 1.8 & 0.8 & 0.6 & 0.5 & 108.7 & 48.9 & 36.9 & 28.0 \\\\ \n",
      " v3_l3 & 1200 & 6.1 & 3.1 & 2.6 & 2.2 & 226.5 & 137.9 & 115.5 & 101.1 \\\\ \n",
      " \\hline \\hline \\end{tabular} \\end{table}\n"
     ]
    },
    {
     "name": "stderr",
     "output_type": "stream",
     "text": [
      "/tmp/ipykernel_122583/2674757401.py:2: FutureWarning: In future versions `DataFrame.to_latex` is expected to utilise the base implementation of `Styler.to_latex` for formatting and rendering. The arguments signature may therefore change. It is recommended instead to use `DataFrame.style.to_latex` which also contains additional functionality.\n",
      "  latex_str = df.to_latex(index=False, escape=False, **kwargs)\n"
     ]
    }
   ],
   "source": [
    "print(df_to_latex_table(_ext.copy(), \"MACE RMSE\", float_format=\"%.1f\"))"
   ]
  },
  {
   "cell_type": "code",
   "execution_count": null,
   "metadata": {},
   "outputs": [],
   "source": []
  }
 ],
 "metadata": {
  "kernelspec": {
   "display_name": "mkite-dev",
   "language": "python",
   "name": "mkite-dev"
  },
  "language_info": {
   "codemirror_mode": {
    "name": "ipython",
    "version": 3
   },
   "file_extension": ".py",
   "mimetype": "text/x-python",
   "name": "python",
   "nbconvert_exporter": "python",
   "pygments_lexer": "ipython3",
   "version": "3.8.2"
  },
  "varInspector": {
   "cols": {
    "lenName": 16,
    "lenType": 16,
    "lenVar": 40
   },
   "kernels_config": {
    "python": {
     "delete_cmd_postfix": "",
     "delete_cmd_prefix": "del ",
     "library": "var_list.py",
     "varRefreshCmd": "print(var_dic_list())"
    },
    "r": {
     "delete_cmd_postfix": ") ",
     "delete_cmd_prefix": "rm(",
     "library": "var_list.r",
     "varRefreshCmd": "cat(var_dic_list()) "
    }
   },
   "types_to_exclude": [
    "module",
    "function",
    "builtin_function_or_method",
    "instance",
    "_Feature"
   ],
   "window_display": false
  }
 },
 "nbformat": 4,
 "nbformat_minor": 4
}
